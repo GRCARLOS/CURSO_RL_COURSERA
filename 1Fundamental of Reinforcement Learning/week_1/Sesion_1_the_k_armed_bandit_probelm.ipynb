{
 "cells": [
  {
   "cell_type": "markdown",
   "metadata": {},
   "source": [
    "# The k armed bandit problem\n",
    "\n",
    "##  Estimating the action value function\n",
    "## Estimating the action value function incrementally\n",
    "- Derived incremental sample-avergae method.\n",
    "- Generalized the incemental update rule into a more general rule.\n",
    "- A constant step size parameter can be used to solve non stationare problem.\n"
   ]
  },
  {
   "cell_type": "markdown",
   "metadata": {},
   "source": [
    "### The sample-average method for estimating action values\n",
    "\n",
    "$$ Q_{n+1} = \\frac{1}{n} \\sum_{i=1}^{n} R_i$$"
   ]
  },
  {
   "cell_type": "markdown",
   "metadata": {},
   "source": [
    "### The incremental update rule\n",
    "$$ NewEstimate \\leftarrow OldEstimate + StepSize [Target - OldEstimate]$$\n",
    "$$ NewEstimate= Q_{n+1}$$\n",
    "$$ Old estimated=Q_n $$\n",
    "$$ Step size= \\frac{1}{n}$$\n",
    "$$ The error in the estimated = the diference betwen the [Target - OldEstimate] $$\n",
    "\n",
    "$$Q_n+1 = Q_n + \\frac{1}{n}[R_n - Q_n]$$"
   ]
  },
  {
   "cell_type": "markdown",
   "metadata": {},
   "source": [
    "### Decaying past rewards (Recompensas que decaen con el tiempo)\n",
    "$$Q_{n+1} = Q_n + \\alpha_{n} [R_n - Q_n]$$\n",
    "$$Q_{n+1}=  \\alpha_{n} R_n + (1 - \\alpha_{n})\\alpha R_{n-1} +(1-\\alpha)^2 \\alpha R_{n-2}+ ... $$\n",
    "$$+ (1-\\alpha)^{n-1} \\alpha R_1 + (1-\\alpha)^n Q_1$$\n",
    "\n",
    "$$= (1-\\alpha)^n Q_1 + \\sum_{i=1}^{n} \\alpha (1-\\alpha)^{n-i} R_i$$"
   ]
  }
 ],
 "metadata": {
  "kernelspec": {
   "display_name": "Python 3",
   "language": "python",
   "name": "python3"
  },
  "language_info": {
   "codemirror_mode": {
    "name": "ipython",
    "version": 3
   },
   "file_extension": ".py",
   "mimetype": "text/x-python",
   "name": "python",
   "nbconvert_exporter": "python",
   "pygments_lexer": "ipython3",
   "version": "3.9.1"
  },
  "orig_nbformat": 4
 },
 "nbformat": 4,
 "nbformat_minor": 2
}
